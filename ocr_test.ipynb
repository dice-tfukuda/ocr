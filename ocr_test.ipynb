{
 "cells": [
  {
   "cell_type": "code",
   "execution_count": 7,
   "id": "8a4fb121-e6d5-4bf6-8b2d-84d16e59f1a0",
   "metadata": {},
   "outputs": [
    {
     "name": "stdout",
     "output_type": "stream",
     "text": [
      "Collecting package metadata (current_repodata.json): | WARNING conda.models.version:get_matcher(542): Using .* with relational operator is superfluous and deprecated and will be removed in a future version of conda. Your spec was 1.7.1.*, but conda is ignoring the .* and treating it as 1.7.1\n",
      "done\n",
      "Solving environment: done\n",
      "\n",
      "\n",
      "==> WARNING: A newer version of conda exists. <==\n",
      "  current version: 22.9.0\n",
      "  latest version: 23.7.3\n",
      "\n",
      "Please update conda by running\n",
      "\n",
      "    $ conda update -n base -c defaults conda\n",
      "\n",
      "\n",
      "\n",
      "# All requested packages already installed.\n",
      "\n",
      "Retrieving notices: ...working... done\n"
     ]
    }
   ],
   "source": [
    "!conda install -c conda-forge tesseract"
   ]
  },
  {
   "cell_type": "code",
   "execution_count": 8,
   "id": "a7679436-1e7d-42e7-9f44-16e4e5a0cca8",
   "metadata": {},
   "outputs": [
    {
     "name": "stdout",
     "output_type": "stream",
     "text": [
      "Collecting package metadata (current_repodata.json): - WARNING conda.models.version:get_matcher(542): Using .* with relational operator is superfluous and deprecated and will be removed in a future version of conda. Your spec was 1.7.1.*, but conda is ignoring the .* and treating it as 1.7.1\n",
      "done\n",
      "Solving environment: done\n",
      "\n",
      "\n",
      "==> WARNING: A newer version of conda exists. <==\n",
      "  current version: 22.9.0\n",
      "  latest version: 23.7.3\n",
      "\n",
      "Please update conda by running\n",
      "\n",
      "    $ conda update -n base -c defaults conda\n",
      "\n",
      "\n",
      "\n",
      "# All requested packages already installed.\n",
      "\n",
      "Retrieving notices: ...working... done\n"
     ]
    }
   ],
   "source": [
    "!conda install -c conda-forge pyocr"
   ]
  },
  {
   "cell_type": "code",
   "execution_count": 20,
   "id": "059325a3-1033-4c83-8651-06adf29af847",
   "metadata": {},
   "outputs": [],
   "source": [
    "from PIL import Image\n",
    "import pyocr\n",
    "import os"
   ]
  },
  {
   "cell_type": "code",
   "execution_count": 16,
   "id": "8d21fcd6-cb14-41d5-97d8-db3280a3e317",
   "metadata": {},
   "outputs": [],
   "source": [
    "# 各環境の言語ファイルのパスを指定\n",
    "os.environ['TESSDATA_PREFIX'] = '/opt/anaconda3/share/tessdata'"
   ]
  },
  {
   "cell_type": "code",
   "execution_count": 19,
   "id": "096f18cf-6693-477b-a862-a40e57548324",
   "metadata": {},
   "outputs": [
    {
     "name": "stdout",
     "output_type": "stream",
     "text": [
      "対応言語: ['afr', 'amh', 'ara', 'asm', 'aze', 'aze_cyrl', 'bel', 'ben', 'bod', 'bos', 'bre', 'bul', 'cat', 'ceb', 'ces', 'chi_sim', 'chi_sim_vert', 'chi_tra', 'chi_tra_vert', 'chr', 'cos', 'cym', 'dan', 'deu', 'div', 'dzo', 'ell', 'eng', 'enm', 'epo', 'equ', 'est', 'eus', 'fao', 'fas', 'fil', 'fin', 'fra', 'frk', 'frm', 'fry', 'gla', 'gle', 'glg', 'grc', 'guj', 'hat', 'heb', 'hin', 'hrv', 'hun', 'hye', 'iku', 'ind', 'isl', 'ita', 'ita_old', 'jav', 'jpn', 'jpn_vert', 'kan', 'kat', 'kat_old', 'kaz', 'khm', 'kir', 'kmr', 'kor', 'kor_vert', 'lao', 'lat', 'lav', 'lit', 'ltz', 'mal', 'mar', 'mkd', 'mlt', 'mon', 'mri', 'msa', 'mya', 'nep', 'nld', 'nor', 'oci', 'ori', 'osd', 'pan', 'pol', 'por', 'pus', 'que', 'ron', 'rus', 'san', 'sin', 'slk', 'slv', 'snd', 'spa', 'spa_old', 'sqi', 'srp', 'srp_latn', 'sun', 'swa', 'swe', 'syr', 'tam', 'tat', 'tel', 'tgk', 'tha', 'tir', 'ton', 'tur', 'uig', 'ukr', 'urd', 'uzb', 'uzb_cyrl', 'vie', 'yid', 'yor']\n",
      "Basic policy for training data management 学習データ管理太\n",
      "本方針\n",
      "\n",
      "1JAGESs Permissons are convoled so Nat only cetain members access the trining data ca\n",
      "データは特定のメンバーしかアクセスできないようにアクセス権を結理する。\n",
      "3 Sre data yi sbah that ident data mana9ement ategories Such as \"personalinformaton inddedh\n",
      "-ND wisberec\n",
      "凡人NRを全む・含まない、 研究間発用途で利用可 不可などデーク管理区分が持別できるラベバルをデ」\n",
      "ータに人号て名菅する、\n",
      "ミ Te sorsgelocatonis Box and labelng iogL Date downloaded tothe model raiing sener or local\n",
      "msdine or model raiing and testng s deleted ater tsc\n",
      "人所ssoxおよびラベリングツールとし、 モル学如・デスト用にモデル学避用のサーババやローカ」\n",
      "ルマシンにダウンロードしたデータは利用後は除する\n",
      "Condaa petodicrerews fmっabove\n",
      "E+3について、証基9にレビューを実放する\n",
      "\n",
      "Data storage location and management policies デー 夕保管場\n",
      "所と衝理方針\n"
     ]
    }
   ],
   "source": [
    "from PIL import Image\n",
    "import pyocr\n",
    "\n",
    "# OCRエンジンを取得\n",
    "engines = pyocr.get_available_tools()\n",
    "engine = engines[0]\n",
    "\n",
    "# 対応言語取得\n",
    "langs = engine.get_available_languages()\n",
    "print(\"対応言語:\",langs) # ['eng', 'jpn', 'osd']\n",
    "\n",
    "# 画像の文字を読み込む\n",
    "txt = engine.image_to_string(Image.open('images/test1.png'), lang=\"jpn\") # 修正点：lang=\"eng\" -> lang=\"jpn\"\n",
    "print(txt)"
   ]
  },
  {
   "cell_type": "code",
   "execution_count": null,
   "id": "b3665624-f510-40e8-a1d6-b69d46644ae7",
   "metadata": {},
   "outputs": [],
   "source": []
  },
  {
   "cell_type": "code",
   "execution_count": null,
   "id": "daaa5206-8b88-43b0-90a0-05adaf9bacab",
   "metadata": {},
   "outputs": [],
   "source": []
  }
 ],
 "metadata": {
  "kernelspec": {
   "display_name": "Python 3 (ipykernel)",
   "language": "python",
   "name": "python3"
  },
  "language_info": {
   "codemirror_mode": {
    "name": "ipython",
    "version": 3
   },
   "file_extension": ".py",
   "mimetype": "text/x-python",
   "name": "python",
   "nbconvert_exporter": "python",
   "pygments_lexer": "ipython3",
   "version": "3.9.13"
  }
 },
 "nbformat": 4,
 "nbformat_minor": 5
}
