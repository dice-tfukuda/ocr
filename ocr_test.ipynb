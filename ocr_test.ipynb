{
 "cells": [
  {
   "cell_type": "code",
   "execution_count": 1,
   "id": "059325a3-1033-4c83-8651-06adf29af847",
   "metadata": {
    "tags": []
   },
   "outputs": [],
   "source": [
    "from PIL import Image\n",
    "import pyocr\n",
    "import os"
   ]
  },
  {
   "cell_type": "code",
   "execution_count": 2,
   "id": "8d21fcd6-cb14-41d5-97d8-db3280a3e317",
   "metadata": {
    "tags": []
   },
   "outputs": [],
   "source": [
    "# 各環境の言語ファイルのパスを指定\n",
    "os.environ['TESSDATA_PREFIX'] = '/opt/anaconda3/share/tessdata'"
   ]
  },
  {
   "cell_type": "code",
   "execution_count": 3,
   "id": "096f18cf-6693-477b-a862-a40e57548324",
   "metadata": {
    "tags": []
   },
   "outputs": [
    {
     "name": "stdout",
     "output_type": "stream",
     "text": [
      "対応言語: ['afr', 'amh', 'ara', 'asm', 'aze', 'aze_cyrl', 'bel', 'ben', 'bod', 'bos', 'bre', 'bul', 'cat', 'ceb', 'ces', 'chi_sim', 'chi_sim_vert', 'chi_tra', 'chi_tra_vert', 'chr', 'cos', 'cym', 'dan', 'deu', 'div', 'dzo', 'ell', 'eng', 'enm', 'epo', 'equ', 'est', 'eus', 'fao', 'fas', 'fil', 'fin', 'fra', 'frk', 'frm', 'fry', 'gla', 'gle', 'glg', 'grc', 'guj', 'hat', 'heb', 'hin', 'hrv', 'hun', 'hye', 'iku', 'ind', 'isl', 'ita', 'ita_old', 'jav', 'jpn', 'jpn_vert', 'kan', 'kat', 'kat_old', 'kaz', 'khm', 'kir', 'kmr', 'kor', 'kor_vert', 'lao', 'lat', 'lav', 'lit', 'ltz', 'mal', 'mar', 'mkd', 'mlt', 'mon', 'mri', 'msa', 'mya', 'nep', 'nld', 'nor', 'oci', 'ori', 'osd', 'pan', 'pol', 'por', 'pus', 'que', 'ron', 'rus', 'san', 'sin', 'slk', 'slv', 'snd', 'spa', 'spa_old', 'sqi', 'srp', 'srp_latn', 'sun', 'swa', 'swe', 'syr', 'tam', 'tat', 'tel', 'tgk', 'tha', 'tir', 'ton', 'tur', 'uig', 'ukr', 'urd', 'uzb', 'uzb_cyrl', 'vie', 'yid', 'yor']\n",
      "寿限無 寿限無 五郊のすりきれ\n",
      "\n",
      "海砂利氷人の水行末 宏来未 由来末\n",
      "\n",
      "食う究るところに住むところ\n",
      "\n",
      "やぶら小外のぶら小路\n",
      "\n",
      "パイボバイボ パイボのシューリンガン\n",
      "\n",
      "シューリンガンのクーリンダイ\n",
      "\n",
      "クーリンダイのポンポコナーのポンポコピーの長久命の長助\n"
     ]
    }
   ],
   "source": [
    "from PIL import Image\n",
    "import pyocr\n",
    "\n",
    "# OCRエンジンを取得\n",
    "engines = pyocr.get_available_tools()\n",
    "engine = engines[0]\n",
    "\n",
    "# 対応言語取得\n",
    "langs = engine.get_available_languages()\n",
    "print(\"対応言語:\",langs) # ['eng', 'jpn', 'osd']\n",
    "\n",
    "# 画像の文字を読み込む\n",
    "txt = engine.image_to_string(Image.open('images/test.png'), lang=\"jpn\") # 修正点：lang=\"eng\" -> lang=\"jpn\"\n",
    "print(txt)"
   ]
  },
  {
   "cell_type": "code",
   "execution_count": null,
   "id": "b3665624-f510-40e8-a1d6-b69d46644ae7",
   "metadata": {},
   "outputs": [],
   "source": []
  },
  {
   "cell_type": "code",
   "execution_count": null,
   "id": "daaa5206-8b88-43b0-90a0-05adaf9bacab",
   "metadata": {},
   "outputs": [],
   "source": []
  }
 ],
 "metadata": {
  "kernelspec": {
   "display_name": "Python 3 (ipykernel)",
   "language": "python",
   "name": "python3"
  },
  "language_info": {
   "codemirror_mode": {
    "name": "ipython",
    "version": 3
   },
   "file_extension": ".py",
   "mimetype": "text/x-python",
   "name": "python",
   "nbconvert_exporter": "python",
   "pygments_lexer": "ipython3",
   "version": "3.11.4"
  }
 },
 "nbformat": 4,
 "nbformat_minor": 5
}
