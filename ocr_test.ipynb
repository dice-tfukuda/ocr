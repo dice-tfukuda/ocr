{
 "cells": [
  {
   "cell_type": "code",
   "execution_count": 67,
   "id": "059325a3-1033-4c83-8651-06adf29af847",
   "metadata": {
    "tags": []
   },
   "outputs": [],
   "source": [
    "from glob import glob\n",
    "from PIL import Image\n",
    "import pandas as pd\n",
    "import pyocr\n",
    "import os"
   ]
  },
  {
   "cell_type": "code",
   "execution_count": 68,
   "id": "8d21fcd6-cb14-41d5-97d8-db3280a3e317",
   "metadata": {
    "tags": []
   },
   "outputs": [],
   "source": [
    "# 各環境の言語ファイルのパスを指定\n",
    "os.environ['TESSDATA_PREFIX'] = '/opt/anaconda3/share/tessdata'"
   ]
  },
  {
   "cell_type": "code",
   "execution_count": 69,
   "id": "096f18cf-6693-477b-a862-a40e57548324",
   "metadata": {
    "tags": []
   },
   "outputs": [
    {
     "name": "stdout",
     "output_type": "stream",
     "text": [
      "対応言語: ['afr', 'amh', 'ara', 'asm', 'aze', 'aze_cyrl', 'bel', 'ben', 'bod', 'bos', 'bre', 'bul', 'cat', 'ceb', 'ces', 'chi_sim', 'chi_sim_vert', 'chi_tra', 'chi_tra_vert', 'chr', 'cos', 'cym', 'dan', 'deu', 'div', 'dzo', 'ell', 'eng', 'enm', 'epo', 'equ', 'est', 'eus', 'fao', 'fas', 'fil', 'fin', 'fra', 'frk', 'frm', 'fry', 'gla', 'gle', 'glg', 'grc', 'guj', 'hat', 'heb', 'hin', 'hrv', 'hun', 'hye', 'iku', 'ind', 'isl', 'ita', 'ita_old', 'jav', 'jpn', 'jpn_vert', 'kan', 'kat', 'kat_old', 'kaz', 'khm', 'kir', 'kmr', 'kor', 'kor_vert', 'lao', 'lat', 'lav', 'lit', 'ltz', 'mal', 'mar', 'mkd', 'mlt', 'mon', 'mri', 'msa', 'mya', 'nep', 'nld', 'nor', 'oci', 'ori', 'osd', 'pan', 'pol', 'por', 'pus', 'que', 'ron', 'rus', 'san', 'sin', 'slk', 'slv', 'snd', 'spa', 'spa_old', 'sqi', 'srp', 'srp_latn', 'sun', 'swa', 'swe', 'syr', 'tam', 'tat', 'tel', 'tgk', 'tha', 'tir', 'ton', 'tur', 'uig', 'ukr', 'urd', 'uzb', 'uzb_cyrl', 'vie', 'yid', 'yor']\n",
      "寿限無 寿限無 五郊のすりきれ\n",
      "\n",
      "海砂利氷人の水行末 宏来未 由来末\n",
      "\n",
      "食う究るところに住むところ\n",
      "\n",
      "やぶら小外のぶら小路\n",
      "\n",
      "パイボバイボ パイボのシューリンガン\n",
      "\n",
      "シューリンガンのクーリンダイ\n",
      "\n",
      "クーリンダイのポンポコナーのポンポコピーの長久命の長助\n"
     ]
    }
   ],
   "source": [
    "from PIL import Image\n",
    "import pyocr\n",
    "\n",
    "# OCRエンジンを取得\n",
    "engines = pyocr.get_available_tools()\n",
    "engine = engines[0]\n",
    "\n",
    "# 対応言語取得\n",
    "langs = engine.get_available_languages()\n",
    "print(\"対応言語:\",langs) # ['eng', 'jpn', 'osd']\n",
    "\n",
    "# 画像の文字を読み込む\n",
    "txt = engine.image_to_string(Image.open('images/test.png'), lang=\"jpn\") # 修正点：lang=\"eng\" -> lang=\"jpn\"\n",
    "print(txt)"
   ]
  },
  {
   "cell_type": "code",
   "execution_count": 80,
   "id": "b3665624-f510-40e8-a1d6-b69d46644ae7",
   "metadata": {
    "tags": []
   },
   "outputs": [
    {
     "name": "stdout",
     "output_type": "stream",
     "text": [
      "{'images/cat.png': '吾募は猫である。\\n\\n名前はまだ無い。どこで生れたかと\\nんと見当がつかめぬ。\\n\\n何でも薄暗いじめじめした所で\\nニャーニャー泣いていた事だけは\\n記憶している。吾募はここで始めて\\n人間というものを見た。しかもあと\\nで聞くとそれは書生という人間中\\nで一番狂悪な種族であったそうだ。\\nこの書生というのは時々我々を捕\\nえて煮て食うという話である。しか\\nしその当時は何という考もなかっ\\nたから別段丸しいとも思わなかっ\\n2g'}\n",
      "{'images/cat.png': '吾募は猫である。\\n\\n名前はまだ無い。どこで生れたかと\\nんと見当がつかめぬ。\\n\\n何でも薄暗いじめじめした所で\\nニャーニャー泣いていた事だけは\\n記憶している。吾募はここで始めて\\n人間というものを見た。しかもあと\\nで聞くとそれは書生という人間中\\nで一番狂悪な種族であったそうだ。\\nこの書生というのは時々我々を捕\\nえて煮て食うという話である。しか\\nしその当時は何という考もなかっ\\nたから別段丸しいとも思わなかっ\\n2g', 'images/pasta.png': 'ブロッコリーとベーコンのパスタ\\n\\n(1)ブロッコリーは小房に分け\\n\\nる。ベーコ\\n\\nンは2 cm幅に切る。にんに\\n\\nくは芯を取ってみじん切り、赤唐辛子\\nは種を取って小口切りにする。\\n\\n(2)鍋にたっぷりの湯を沸かし、塩大\\n\\nさじ]\\n\\n/2(分量外)を入れてスバゲッ\\n\\nティを規定の時間ゆでる。ゆで上がり\\n\\n1分3\\n\\nEE前に(1 )のブロッコリーも入れ\\n\\nて一緒にゆで、水気をきる。\\n\\n(3)フライパンにオリーブオイル、に\\nんにくを入れてに火にかけ、香りが\\n\\n立った\\nめる。\\n\\nら、赤唐辛子を入れて弱火で炒\\n\\n(4)火を強め、(2)のスパゲッティと\\n\\nブ\\n\\nと)\\n\\nツ\\n\\nリー、ベーコンを入れてさっ\\n\\nゆめ、しょうゆを加えて混ぜ、器に盛\\nりつける。'}\n",
      "{'images/cat.png': '吾募は猫である。\\n\\n名前はまだ無い。どこで生れたかと\\nんと見当がつかめぬ。\\n\\n何でも薄暗いじめじめした所で\\nニャーニャー泣いていた事だけは\\n記憶している。吾募はここで始めて\\n人間というものを見た。しかもあと\\nで聞くとそれは書生という人間中\\nで一番狂悪な種族であったそうだ。\\nこの書生というのは時々我々を捕\\nえて煮て食うという話である。しか\\nしその当時は何という考もなかっ\\nたから別段丸しいとも思わなかっ\\n2g', 'images/pasta.png': 'ブロッコリーとベーコンのパスタ\\n\\n(1)ブロッコリーは小房に分け\\n\\nる。ベーコ\\n\\nンは2 cm幅に切る。にんに\\n\\nくは芯を取ってみじん切り、赤唐辛子\\nは種を取って小口切りにする。\\n\\n(2)鍋にたっぷりの湯を沸かし、塩大\\n\\nさじ]\\n\\n/2(分量外)を入れてスバゲッ\\n\\nティを規定の時間ゆでる。ゆで上がり\\n\\n1分3\\n\\nEE前に(1 )のブロッコリーも入れ\\n\\nて一緒にゆで、水気をきる。\\n\\n(3)フライパンにオリーブオイル、に\\nんにくを入れてに火にかけ、香りが\\n\\n立った\\nめる。\\n\\nら、赤唐辛子を入れて弱火で炒\\n\\n(4)火を強め、(2)のスパゲッティと\\n\\nブ\\n\\nと)\\n\\nツ\\n\\nリー、ベーコンを入れてさっ\\n\\nゆめ、しょうゆを加えて混ぜ、器に盛\\nりつける。', 'images/test.png': '寿限無 寿限無 五郊のすりきれ\\n\\n海砂利氷人の水行末 宏来未 由来末\\n\\n食う究るところに住むところ\\n\\nやぶら小外のぶら小路\\n\\nパイボバイボ パイボのシューリンガン\\n\\nシューリンガンのクーリンダイ\\n\\nクーリンダイのポンポコナーのポンポコピーの長久命の長助'}\n",
      "{'images/cat.png': '吾募は猫である。\\n\\n名前はまだ無い。どこで生れたかと\\nんと見当がつかめぬ。\\n\\n何でも薄暗いじめじめした所で\\nニャーニャー泣いていた事だけは\\n記憶している。吾募はここで始めて\\n人間というものを見た。しかもあと\\nで聞くとそれは書生という人間中\\nで一番狂悪な種族であったそうだ。\\nこの書生というのは時々我々を捕\\nえて煮て食うという話である。しか\\nしその当時は何という考もなかっ\\nたから別段丸しいとも思わなかっ\\n2g', 'images/pasta.png': 'ブロッコリーとベーコンのパスタ\\n\\n(1)ブロッコリーは小房に分け\\n\\nる。ベーコ\\n\\nンは2 cm幅に切る。にんに\\n\\nくは芯を取ってみじん切り、赤唐辛子\\nは種を取って小口切りにする。\\n\\n(2)鍋にたっぷりの湯を沸かし、塩大\\n\\nさじ]\\n\\n/2(分量外)を入れてスバゲッ\\n\\nティを規定の時間ゆでる。ゆで上がり\\n\\n1分3\\n\\nEE前に(1 )のブロッコリーも入れ\\n\\nて一緒にゆで、水気をきる。\\n\\n(3)フライパンにオリーブオイル、に\\nんにくを入れてに火にかけ、香りが\\n\\n立った\\nめる。\\n\\nら、赤唐辛子を入れて弱火で炒\\n\\n(4)火を強め、(2)のスパゲッティと\\n\\nブ\\n\\nと)\\n\\nツ\\n\\nリー、ベーコンを入れてさっ\\n\\nゆめ、しょうゆを加えて混ぜ、器に盛\\nりつける。', 'images/test.png': '寿限無 寿限無 五郊のすりきれ\\n\\n海砂利氷人の水行末 宏来未 由来末\\n\\n食う究るところに住むところ\\n\\nやぶら小外のぶら小路\\n\\nパイボバイボ パイボのシューリンガン\\n\\nシューリンガンのクーリンダイ\\n\\nクーリンダイのポンポコナーのポンポコピーの長久命の長助', 'images/wikipedia.png': '超弦理論が登場する以前に最も小さな\\nスケールを記述した理論は場の量子諭\\nである。\\n\\nそこでは粒子を点、すなわち点粒子と\\nして扱ってきた(局所場の理論に代わ\\nる、広がりを持った粒子の概念を導入\\nしたS行列理論や非局所場理論なども\\nあった)。\\n\\n一方、超弦理論では粒子を弦の振動と\\nして表す。\\n\\n1960年代、イタリアの物理学者、ガブ\\nリエーレ・ヴェネツィアーノが核子の\\n内部で働く強い力の性質をベータ関数\\nで表し、その式の示す構造が「弦\\n(string)」によって記述されることに\\n南部陽一郎、レオナルド・サスキン\\nド、ホルガー・ベック・ニールセンらが\\n気付いたことから始まる。'}\n"
     ]
    }
   ],
   "source": [
    "# imagesフォルダにある複数枚の画像を読み込んで文字化\n",
    "images = glob(\"images/*\")\n",
    "img_str_dict = {}\n",
    "for image in images:\n",
    "    txt = engine.image_to_string(Image.open(image), lang=\"jpn\")\n",
    "    img_str_dict.update({image: txt})\n",
    "    print(img_str_dict)"
   ]
  },
  {
   "cell_type": "code",
   "execution_count": 81,
   "id": "0375d5ee-916b-4b76-b091-e857d53e1108",
   "metadata": {
    "tags": []
   },
   "outputs": [],
   "source": [
    "# データフレームをエクセルに格納\n",
    "df = pd.DataFrame([img_str_dict], index=[\"文章\"])\n",
    "df.to_excel(\"ocr_test.xlsx\")"
   ]
  },
  {
   "cell_type": "code",
   "execution_count": null,
   "id": "e119037e-dec3-434f-bc73-e245927ef0a7",
   "metadata": {},
   "outputs": [],
   "source": []
  }
 ],
 "metadata": {
  "kernelspec": {
   "display_name": "Python 3 (ipykernel)",
   "language": "python",
   "name": "python3"
  },
  "language_info": {
   "codemirror_mode": {
    "name": "ipython",
    "version": 3
   },
   "file_extension": ".py",
   "mimetype": "text/x-python",
   "name": "python",
   "nbconvert_exporter": "python",
   "pygments_lexer": "ipython3",
   "version": "3.11.4"
  }
 },
 "nbformat": 4,
 "nbformat_minor": 5
}
